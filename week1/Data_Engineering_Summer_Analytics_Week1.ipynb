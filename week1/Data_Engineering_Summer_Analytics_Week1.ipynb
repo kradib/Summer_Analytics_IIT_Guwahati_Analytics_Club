{
 "cells": [
  {
   "cell_type": "markdown",
   "metadata": {
    "colab_type": "text",
    "id": "rXD4pnLulV9W"
   },
   "source": [
    "# Data Engineering\n"
   ]
  },
  {
   "cell_type": "markdown",
   "metadata": {},
   "source": [
    "#### Welcome to the Data Engineering Assignment of Summer Analytics 2020. This assignment is primarily based on Web-Scraping, but knowledge of other libraries (Numpy, Pandas) is essential for completion of the assignment. So make sure that you attempt this assignment only after you complete all the 5 days of Week 1"
   ]
  },
  {
   "cell_type": "markdown",
   "metadata": {
    "colab_type": "text",
    "id": "7XDBpzBjlV9X"
   },
   "source": [
    "## Retrieving data from the web"
   ]
  },
  {
   "cell_type": "markdown",
   "metadata": {
    "colab_type": "text",
    "id": "-uaZk6l3lV9X"
   },
   "source": [
    "### requests\n",
    "\n",
    "The first task is to retrieve some data from the Internet. Python has many built-in libraries that were developed over the years to do exactly that (e.g. urllib, urllib2, urllib3).\n",
    "\n",
    "However, these libraries are very low-level and somewhat hard to use. They become especially cumbersome when you need to issue POST requests or authenticate against a web service.\n",
    "\n",
    "Luckly, as with most tasks in Python, someone has developed a library that simplifies these tasks. In reality, the requests made both on this assignment are fairly simple, and could easily be done using one of the built-in libraries. However, it is better to get acquainted to `requests` as soon as possible, since you will probably need it in the future."
   ]
  },
  {
   "cell_type": "code",
   "execution_count": 1,
   "metadata": {
    "colab": {},
    "colab_type": "code",
    "id": "FxcJAU4plV9Y"
   },
   "outputs": [],
   "source": [
    "# You tell Python that you want to use a library with the import statement.\n",
    "import requests"
   ]
  },
  {
   "cell_type": "markdown",
   "metadata": {
    "colab_type": "text",
    "id": "lPeOV8Z8lV9b"
   },
   "source": [
    "Now that the requests library was imported into our namespace, we can use the functions offered by it.\n",
    "\n",
    "In this case we'll use the appropriately named `get` function to issue a *GET* request. This is equivalent to typing a URL into your browser and hitting enter."
   ]
  },
  {
   "cell_type": "code",
   "execution_count": 2,
   "metadata": {
    "colab": {},
    "colab_type": "code",
    "id": "X5ezX4D6lV9c"
   },
   "outputs": [],
   "source": [
    "# Get the HU Wikipedia page\n",
    "req = requests.get(\"https://en.wikipedia.org/wiki/Harvard_University\")"
   ]
  },
  {
   "cell_type": "markdown",
   "metadata": {
    "colab_type": "text",
    "id": "Qp5f0iI4lV9f"
   },
   "source": [
    "Another very nifty Python function is `dir`. You can use it to list all the properties of an object.\n"
   ]
  },
  {
   "cell_type": "code",
   "execution_count": 4,
   "metadata": {
    "colab": {},
    "colab_type": "code",
    "id": "fHLQCt4LlV9f"
   },
   "outputs": [],
   "source": [
    "#dir(req)"
   ]
  },
  {
   "cell_type": "markdown",
   "metadata": {
    "colab_type": "text",
    "id": "3tKlDZhnlV9i"
   },
   "source": [
    "Right now `req` holds a reference to a *Request* object; but we are interested in the text associated with the web page, not the object itself.\n",
    "\n",
    "So the next step is to assign the value of the `text` property of this `Request` object to a variable."
   ]
  },
  {
   "cell_type": "code",
   "execution_count": 5,
   "metadata": {
    "colab": {},
    "colab_type": "code",
    "id": "_ALSXUOmlV9j"
   },
   "outputs": [],
   "source": [
    "page = req.text\n",
    "#page"
   ]
  },
  {
   "cell_type": "markdown",
   "metadata": {
    "colab_type": "text",
    "id": "XTKvFbQflV9l"
   },
   "source": [
    "Great! Now we have the text of the HU Wikipedia page. But this mess of HTML tags would be a pain to parse manually. Which is why we will use another very cool Python library called BeautifulSoup."
   ]
  },
  {
   "cell_type": "markdown",
   "metadata": {
    "colab_type": "text",
    "id": "QHbaowAQlV9m"
   },
   "source": [
    "### BeautifulSoup\n",
    "\n",
    "Parsing data would be a breeze if we could always use well formatted data sources, such as CSV, JSON, or XML; but some formats such as HTML are at the same time a very popular and a pain to parse.\n",
    "\n",
    "One of the problems with HTML is that over the years browsers have evolved to be very forgiving of \"malformed\" syntax. Your browser is smart enough to detect some common problems, such as open tags, and correct them on the fly.\n",
    "\n",
    "Unfortunately, we do not have the time or patience to implement all the different corner cases, so we'll let BeautifulSoup do that for us.\n"
   ]
  },
  {
   "cell_type": "markdown",
   "metadata": {
    "colab_type": "text",
    "id": "EwaIhp4-lV9m"
   },
   "source": [
    "# 1) Import BeautifulSoup"
   ]
  },
  {
   "cell_type": "code",
   "execution_count": 6,
   "metadata": {
    "colab": {},
    "colab_type": "code",
    "id": "UVf4tQVwlV9m"
   },
   "outputs": [],
   "source": [
    "from bs4 import BeautifulSoup"
   ]
  },
  {
   "cell_type": "markdown",
   "metadata": {
    "colab_type": "text",
    "id": "YW5H9wQolV9p"
   },
   "source": [
    "BeautifulSoup can deal with HTML or XML data, so the next line parser the contents of the `page` variable using its HTML parser, and assigns the result of that to the `soup` variable."
   ]
  },
  {
   "cell_type": "markdown",
   "metadata": {
    "colab_type": "text",
    "id": "W4qMWAjjlV9q"
   },
   "source": [
    "# 2) Create a Soup variable to store the parsed contents of the page"
   ]
  },
  {
   "cell_type": "code",
   "execution_count": 7,
   "metadata": {
    "colab": {},
    "colab_type": "code",
    "id": "ETgsZQ54lV9q"
   },
   "outputs": [],
   "source": [
    "soup = BeautifulSoup(page, \"html.parser\")"
   ]
  },
  {
   "cell_type": "markdown",
   "metadata": {
    "colab_type": "text",
    "id": "A44wD93llV9t"
   },
   "source": [
    "Let's check the string representation of the `soup` object."
   ]
  },
  {
   "cell_type": "code",
   "execution_count": 8,
   "metadata": {
    "colab": {},
    "colab_type": "code",
    "id": "U1Yc1O0wlV9t"
   },
   "outputs": [
    {
     "name": "stdout",
     "output_type": "stream",
     "text": [
      "against\n"
     ]
    }
   ],
   "source": [
    "soup\n",
    "#graded assignment\n",
    "soup_s=str(soup)\n",
    "ls=str(soup_s).split()\n",
    "print(ls[50])"
   ]
  },
  {
   "cell_type": "markdown",
   "metadata": {
    "colab_type": "text",
    "id": "yeiPGaJLlV9w"
   },
   "source": [
    "Doesn't look much different from the `page` object representation. Let's make sure the two are different types."
   ]
  },
  {
   "cell_type": "code",
   "execution_count": 9,
   "metadata": {
    "colab": {},
    "colab_type": "code",
    "id": "XpB2HMKQlV9w"
   },
   "outputs": [
    {
     "data": {
      "text/plain": [
       "str"
      ]
     },
     "execution_count": 9,
     "metadata": {},
     "output_type": "execute_result"
    }
   ],
   "source": [
    "type(page)"
   ]
  },
  {
   "cell_type": "code",
   "execution_count": 10,
   "metadata": {
    "colab": {},
    "colab_type": "code",
    "id": "DXQkdjPYlV9z"
   },
   "outputs": [
    {
     "data": {
      "text/plain": [
       "bs4.BeautifulSoup"
      ]
     },
     "execution_count": 10,
     "metadata": {},
     "output_type": "execute_result"
    }
   ],
   "source": [
    "type(soup)"
   ]
  },
  {
   "cell_type": "markdown",
   "metadata": {
    "colab_type": "text",
    "id": "guVuqnfVlV92"
   },
   "source": [
    "Looks like they are indeed different."
   ]
  },
  {
   "cell_type": "markdown",
   "metadata": {
    "colab_type": "text",
    "id": "qGosO-26lV92"
   },
   "source": [
    "# 3) Display the title of the webpage"
   ]
  },
  {
   "cell_type": "markdown",
   "metadata": {
    "colab_type": "text",
    "id": "Hel9PQeYlV92"
   },
   "source": [
    "### Expected Output\n",
    "```\n",
    "<title>Harvard University - Wikipedia, the free encyclopedia</title>\n",
    "```"
   ]
  },
  {
   "cell_type": "code",
   "execution_count": 11,
   "metadata": {
    "colab": {},
    "colab_type": "code",
    "id": "zlq9qwTxlV93"
   },
   "outputs": [
    {
     "name": "stdout",
     "output_type": "stream",
     "text": [
      "Harvard University - Wikipedia\n",
      "Colonial\n",
      "19th century\n",
      "20th century\n",
      "21st century\n",
      "Cambridge\n",
      "Allston\n",
      "Longwood\n",
      "Other\n",
      "Governance\n",
      "Endowment\n",
      "Admissions\n",
      "Teaching and learning\n",
      "Research\n",
      "Libraries and museums\n",
      "Rankings\n",
      "Student government\n",
      "Athletics\n",
      "Fight songs\n",
      "Alumni\n",
      "Faculty\n",
      "Literature\n",
      "Film\n",
      "Personal tools\n",
      "Namespaces\n",
      "\n",
      "Variants\n",
      "\n",
      "Views\n",
      "\n",
      "More\n",
      "\n",
      "\n",
      "Search\n",
      "\n",
      "\n",
      "\t\tNavigation\n",
      "\t\n",
      "\n",
      "\t\tInteraction\n",
      "\t\n",
      "\n",
      "\t\tTools\n",
      "\t\n",
      "\n",
      "\t\tIn other projects\n",
      "\t\n",
      "\n",
      "\t\tPrint/export\n",
      "\t\n",
      "\n",
      "\t\tLanguages\n",
      "\t\n"
     ]
    }
   ],
   "source": [
    "print(soup.title.text)\n",
    "#graded assignment\n",
    "soup.find('h1').text\n",
    "h3tags=soup.find_all('h3')\n",
    "for links in h3tags:\n",
    "    print(links.text)"
   ]
  },
  {
   "cell_type": "markdown",
   "metadata": {
    "colab_type": "text",
    "id": "-sXMqir5lV95"
   },
   "source": [
    "This is nice for HTML elements that only appear once per page, such the the `title` tag. But what about elements that can appear multiple times?"
   ]
  },
  {
   "cell_type": "markdown",
   "metadata": {
    "colab_type": "text",
    "id": "IWCsGEtNlV95"
   },
   "source": [
    "# 4) Display all p tags from the webpage"
   ]
  },
  {
   "cell_type": "markdown",
   "metadata": {
    "colab_type": "text",
    "id": "_SrRxjBMlV96"
   },
   "source": [
    "#### You may use find_all method!"
   ]
  },
  {
   "cell_type": "code",
   "execution_count": 13,
   "metadata": {
    "colab": {},
    "colab_type": "code",
    "id": "S-IDFqAblV96"
   },
   "outputs": [],
   "source": [
    "# Be careful with elements that show up multiple times.\n",
    "# Your Code Here\n",
    "p_elements=soup.find_all(\"p\")\n",
    "#p_elements"
   ]
  },
  {
   "cell_type": "markdown",
   "metadata": {
    "colab_type": "text",
    "id": "O527OjrFlV99"
   },
   "source": [
    "# 5) How may p tags are present?"
   ]
  },
  {
   "cell_type": "code",
   "execution_count": 14,
   "metadata": {
    "colab": {},
    "colab_type": "code",
    "id": "VENpIgJylV99"
   },
   "outputs": [
    {
     "name": "stdout",
     "output_type": "stream",
     "text": [
      "85\n"
     ]
    }
   ],
   "source": [
    "# Your Code Here\n",
    "#graded assignment\n",
    "count=0\n",
    "for links in p_elements:\n",
    "    count=count+1\n",
    "print(count)"
   ]
  },
  {
   "cell_type": "markdown",
   "metadata": {
    "colab_type": "text",
    "id": "0e3gFB18lV9_"
   },
   "source": [
    "---"
   ]
  },
  {
   "cell_type": "markdown",
   "metadata": {
    "colab_type": "text",
    "id": "aTiPovJXlV9_"
   },
   "source": [
    "If you look at the Wikipedia page on your browser, you'll notice that it has a couple of tables in it. We will be working with the \"Demographics\" table, but first we need to find it.\n",
    "\n",
    "One of the HTML attributes that will be very useful to us is the \"class\" attribute.\n",
    "\n",
    "Getting the class of a single element is easy..."
   ]
  },
  {
   "cell_type": "code",
   "execution_count": 15,
   "metadata": {
    "colab": {},
    "colab_type": "code",
    "id": "YUbXHoK6lV-A"
   },
   "outputs": [
    {
     "data": {
      "text/plain": [
       "['infobox', 'vcard']"
      ]
     },
     "execution_count": 15,
     "metadata": {},
     "output_type": "execute_result"
    }
   ],
   "source": [
    "soup.table[\"class\"]"
   ]
  },
  {
   "cell_type": "markdown",
   "metadata": {
    "colab_type": "text",
    "id": "KzoUTUo6lV-C"
   },
   "source": [
    "---\n",
    "\n",
    "### List Comprehensions\n",
    "\n",
    "Next we will use a list comprehension to see all the tables that have a \"class\" attributes. List comprehensions are a very cool Python feature that allows for a loop iteration and a list creation in a single line.\n",
    "\n",
    "As a quick guide you may refer to https://www.youtube.com/watch?v=AhSvKGTh28Q. "
   ]
  },
  {
   "cell_type": "markdown",
   "metadata": {
    "colab_type": "text",
    "id": "acLP3SvSlV-D"
   },
   "source": [
    "# 6) Create a nested list containing classes of all the table tags"
   ]
  },
  {
   "cell_type": "markdown",
   "metadata": {
    "colab_type": "text",
    "id": "ruacfB_glV-D"
   },
   "source": [
    "### Expected Output"
   ]
  },
  {
   "cell_type": "markdown",
   "metadata": {
    "colab_type": "text",
    "id": "vbbfOQlSlV-E"
   },
   "source": [
    "```\n",
    "[['infobox', 'vcard'],\n",
    " ['toccolours'],\n",
    " ['infobox'],\n",
    " ['wikitable', 'sortable', 'collapsible', 'collapsed', 'floatright'],\n",
    " ['wikitable', 'sortable', 'collapsible', 'collapsed', 'floatright'],\n",
    " ['wikitable'],\n",
    " ['box-Cleanup_gallery', 'plainlinks', 'metadata', 'ambox', 'ambox-style'],\n",
    " ['metadata', 'mbox-small'],\n",
    " ['nowraplinks', 'mw-collapsible', 'mw-collapsed', 'navbox-inner'],\n",
    " ['nowraplinks', 'navbox-subgroup'],\n",
    " ['nowraplinks', 'navbox-subgroup'],\n",
    " ['nowraplinks', 'mw-collapsible', 'mw-collapsed', 'navbox-inner'],\n",
    " ['nowraplinks', 'mw-collapsible', 'autocollapse', 'navbox-inner'],\n",
    " ['nowraplinks', 'mw-collapsible', 'mw-collapsed', 'navbox-inner'],\n",
    " ['nowraplinks', 'mw-collapsible', 'autocollapse', 'navbox-inner'],\n",
    " ['nowraplinks', 'mw-collapsible', 'autocollapse', 'navbox-inner'],\n",
    " ['nowraplinks', 'mw-collapsible', 'autocollapse', 'navbox-inner'],\n",
    " ['nowraplinks', 'mw-collapsible', 'autocollapse', 'navbox-inner'],\n",
    " ['nowraplinks', 'mw-collapsible', 'autocollapse', 'navbox-inner'],\n",
    " ['nowraplinks', 'mw-collapsible', 'autocollapse', 'navbox-inner'],\n",
    " ['nowraplinks', 'hlist', 'mw-collapsible', 'autocollapse', 'navbox-inner'],\n",
    " ['nowraplinks', 'mw-collapsible', 'autocollapse', 'navbox-inner'],\n",
    " ['nowraplinks', 'mw-collapsible', 'autocollapse', 'navbox-inner'],\n",
    " ['nowraplinks', 'mw-collapsible', 'mw-collapsed', 'navbox-inner'],\n",
    " ['nowraplinks', 'hlist', 'mw-collapsible', 'autocollapse', 'navbox-inner'],\n",
    " ['nowraplinks', 'navbox-subgroup'],\n",
    " ['nowraplinks', 'hlist', 'navbox-inner']]\n",
    "```"
   ]
  },
  {
   "cell_type": "code",
   "execution_count": 16,
   "metadata": {
    "colab": {},
    "colab_type": "code",
    "id": "RcdwNrL7lV-F"
   },
   "outputs": [
    {
     "name": "stdout",
     "output_type": "stream",
     "text": [
      "['infobox', 'vcard']\n",
      "['toccolours']\n",
      "['infobox']\n",
      "['wikitable', 'sortable', 'collapsible', 'collapsed', 'floatright']\n",
      "['wikitable', 'sortable', 'collapsible', 'collapsed', 'floatright']\n",
      "['wikitable']\n",
      "['box-Cleanup_gallery', 'plainlinks', 'metadata', 'ambox', 'ambox-style']\n",
      "['metadata', 'mbox-small']\n",
      "['nowraplinks', 'mw-collapsible', 'autocollapse', 'navbox-inner']\n",
      "['nowraplinks', 'navbox-subgroup']\n",
      "['nowraplinks', 'navbox-subgroup']\n",
      "['nowraplinks', 'mw-collapsible', 'mw-collapsed', 'navbox-inner']\n",
      "['nowraplinks', 'mw-collapsible', 'autocollapse', 'navbox-inner']\n",
      "['nowraplinks', 'mw-collapsible', 'mw-collapsed', 'navbox-inner']\n",
      "['nowraplinks', 'mw-collapsible', 'autocollapse', 'navbox-inner']\n",
      "['nowraplinks', 'mw-collapsible', 'autocollapse', 'navbox-inner']\n",
      "['nowraplinks', 'mw-collapsible', 'autocollapse', 'navbox-inner']\n",
      "['nowraplinks', 'mw-collapsible', 'autocollapse', 'navbox-inner']\n",
      "['nowraplinks', 'mw-collapsible', 'autocollapse', 'navbox-inner']\n",
      "['nowraplinks', 'mw-collapsible', 'autocollapse', 'navbox-inner']\n",
      "['nowraplinks', 'hlist', 'mw-collapsible', 'autocollapse', 'navbox-inner']\n",
      "['nowraplinks', 'mw-collapsible', 'autocollapse', 'navbox-inner']\n",
      "['nowraplinks', 'mw-collapsible', 'autocollapse', 'navbox-inner']\n",
      "['nowraplinks', 'mw-collapsible', 'mw-collapsed', 'navbox-inner']\n",
      "['nowraplinks', 'hlist', 'mw-collapsible', 'autocollapse', 'navbox-inner']\n",
      "['nowraplinks', 'navbox-subgroup']\n",
      "['nowraplinks', 'hlist', 'navbox-inner']\n",
      "27\n"
     ]
    }
   ],
   "source": [
    "# Your Code Here\n",
    "all_tables=soup.find_all(\"table\")\n",
    "all_table_classes=[links[\"class\"] for links in all_tables]\n",
    "print(*all_table_classes,sep=\"\\n\")    \n",
    "#graded assignment\n",
    "print(len(all_tables))\n",
    "    "
   ]
  },
  {
   "cell_type": "markdown",
   "metadata": {
    "colab_type": "text",
    "id": "fOLdxC_FlV-J"
   },
   "source": [
    "As I mentioned, we will be using the Demographics table for this lab. The next cell contains the HTML elements of said table. We will render it in different parts of the notebook to make it easier to follow along the parsing steps."
   ]
  },
  {
   "cell_type": "markdown",
   "metadata": {
    "colab_type": "text",
    "id": "oHZQxxdqlV-K"
   },
   "source": [
    "# 7) Check the classes and find the Demographics Table\n",
    "#### Use find method to find the table using the correct class , convert it into string format and store it in table_html also stored the original form in html_soup"
   ]
  },
  {
   "cell_type": "code",
   "execution_count": 17,
   "metadata": {
    "colab": {},
    "colab_type": "code",
    "id": "xAFCqdBdlV-K"
   },
   "outputs": [],
   "source": [
    "# Your Code Here\n",
    "for links in all_tables:\n",
    "    if len(links[\"class\"])==1 and links[\"class\"][0]==\"wikitable\":\n",
    "        demographic_table=links\n",
    "        break\n",
    "#demographic=soup.find(\"table\",attrs={\"class\":\"wikitable\"})\n",
    "table_html=(str(demographic_table))\n",
    "html_soup=demographic_table"
   ]
  },
  {
   "cell_type": "code",
   "execution_count": 18,
   "metadata": {
    "colab": {},
    "colab_type": "code",
    "id": "C4DDJmZblV-O"
   },
   "outputs": [
    {
     "data": {
      "text/plain": [
       "'<table class=\"wikitable\" style=\"text-align:center; float:right; font-size:85%; margin-right:2em;\">\\n<caption><i>Demographics of student body (Fall 2019)</i><sup class=\"reference\" id=\"cite_ref-Head_count_159-0\"><a href=\"#cite_note-Head_count-159\">[159]</a></sup><sup class=\"reference\" id=\"cite_ref-160\"><a href=\"#cite_note-160\">[160]</a></sup><sup class=\"reference\" id=\"cite_ref-161\"><a href=\"#cite_note-161\">[161]</a></sup><sup class=\"reference\" id=\"cite_ref-162\"><a href=\"#cite_note-162\">[162]</a></sup>\\n</caption>\\n<tbody><tr>\\n<th></th>\\n<th>Undergrad</th>\\n<th>Grad/prof</th>\\n<th>US census\\n</th></tr>\\n<tr>\\n<th>Asian\\n</th>\\n<td>21%</td>\\n<td>13%</td>\\n<td>5%\\n</td></tr>\\n<tr>\\n<th>Black\\n</th>\\n<td>9%</td>\\n<td>5%</td>\\n<td>12%\\n</td></tr>\\n<tr>\\n<th>Hispanic or Latino\\n</th>\\n<td>11%</td>\\n<td>7%</td>\\n<td>16%\\n</td></tr>\\n<tr>\\n<th>White\\n</th>\\n<td>37%</td>\\n<td>38%</td>\\n<td>64%\\n</td></tr>\\n<tr>\\n<th>Two or more races\\n</th>\\n<td>8%</td>\\n<td>3%</td>\\n<td>9%\\n</td></tr>\\n<tr>\\n<th>International\\n</th>\\n<td>12%</td>\\n<td>32%</td>\\n<td>N/A\\n</td></tr></tbody></table>'"
      ]
     },
     "execution_count": 18,
     "metadata": {},
     "output_type": "execute_result"
    }
   ],
   "source": [
    "table_html"
   ]
  },
  {
   "cell_type": "code",
   "execution_count": 19,
   "metadata": {
    "colab": {},
    "colab_type": "code",
    "id": "1DzOJCEllV-Q"
   },
   "outputs": [
    {
     "data": {
      "text/html": [
       "<table class=\"wikitable\" style=\"text-align:center; float:right; font-size:85%; margin-right:2em;\">\n",
       "<caption><i>Demographics of student body (Fall 2019)</i><sup class=\"reference\" id=\"cite_ref-Head_count_159-0\"><a href=\"#cite_note-Head_count-159\">[159]</a></sup><sup class=\"reference\" id=\"cite_ref-160\"><a href=\"#cite_note-160\">[160]</a></sup><sup class=\"reference\" id=\"cite_ref-161\"><a href=\"#cite_note-161\">[161]</a></sup><sup class=\"reference\" id=\"cite_ref-162\"><a href=\"#cite_note-162\">[162]</a></sup>\n",
       "</caption>\n",
       "<tbody><tr>\n",
       "<th></th>\n",
       "<th>Undergrad</th>\n",
       "<th>Grad/prof</th>\n",
       "<th>US census\n",
       "</th></tr>\n",
       "<tr>\n",
       "<th>Asian\n",
       "</th>\n",
       "<td>21%</td>\n",
       "<td>13%</td>\n",
       "<td>5%\n",
       "</td></tr>\n",
       "<tr>\n",
       "<th>Black\n",
       "</th>\n",
       "<td>9%</td>\n",
       "<td>5%</td>\n",
       "<td>12%\n",
       "</td></tr>\n",
       "<tr>\n",
       "<th>Hispanic or Latino\n",
       "</th>\n",
       "<td>11%</td>\n",
       "<td>7%</td>\n",
       "<td>16%\n",
       "</td></tr>\n",
       "<tr>\n",
       "<th>White\n",
       "</th>\n",
       "<td>37%</td>\n",
       "<td>38%</td>\n",
       "<td>64%\n",
       "</td></tr>\n",
       "<tr>\n",
       "<th>Two or more races\n",
       "</th>\n",
       "<td>8%</td>\n",
       "<td>3%</td>\n",
       "<td>9%\n",
       "</td></tr>\n",
       "<tr>\n",
       "<th>International\n",
       "</th>\n",
       "<td>12%</td>\n",
       "<td>32%</td>\n",
       "<td>N/A\n",
       "</td></tr></tbody></table>"
      ],
      "text/plain": [
       "<IPython.core.display.HTML object>"
      ]
     },
     "execution_count": 19,
     "metadata": {},
     "output_type": "execute_result"
    }
   ],
   "source": [
    "from IPython.core.display import HTML\n",
    "\n",
    "HTML(table_html)"
   ]
  },
  {
   "cell_type": "markdown",
   "metadata": {
    "colab_type": "text",
    "id": "1e3ACBh9lV-T"
   },
   "source": [
    "# 8) Extract the rows from the Demographics table and store it in rows variable"
   ]
  },
  {
   "cell_type": "markdown",
   "metadata": {
    "colab_type": "text",
    "id": "gGSUm3lqlV-U"
   },
   "source": [
    "### Expected Output\n",
    "```\n",
    "[<tr>\n",
    " <th></th>\n",
    " <th>Undergrad</th>\n",
    " <th>Grad/prof</th>\n",
    " <th>US census\n",
    " </th></tr>, <tr>\n",
    " <th>Asian\n",
    " </th>\n",
    " <td>21%</td>\n",
    " <td>13%</td>\n",
    " <td>5%\n",
    " </td></tr>, <tr>\n",
    " <th>Black\n",
    " </th>\n",
    " <td>9%</td>\n",
    " <td>5%</td>\n",
    " <td>12%\n",
    " </td></tr>, <tr>\n",
    " <th>Hispanic or Latino\n",
    " </th>\n",
    " <td>11%</td>\n",
    " <td>7%</td>\n",
    " <td>16%\n",
    " </td></tr>, <tr>\n",
    " <th>White\n",
    " </th>\n",
    " <td>37%</td>\n",
    " <td>38%</td>\n",
    " <td>64%\n",
    " </td></tr>, <tr>\n",
    " <th>Two or more races\n",
    " </th>\n",
    " <td>8%</td>\n",
    " <td>3%</td>\n",
    " <td>9%\n",
    " </td></tr>, <tr>\n",
    " <th>International\n",
    " </th>\n",
    " <td>12%</td>\n",
    " <td>32%</td>\n",
    " <td>N/A\n",
    " </td></tr>]\n",
    "```"
   ]
  },
  {
   "cell_type": "code",
   "execution_count": 20,
   "metadata": {
    "colab": {},
    "colab_type": "code",
    "id": "e1W00hrLlV-U",
    "scrolled": true
   },
   "outputs": [
    {
     "name": "stdout",
     "output_type": "stream",
     "text": [
      "[<tr>\n",
      "<th></th>\n",
      "<th>Undergrad</th>\n",
      "<th>Grad/prof</th>\n",
      "<th>US census\n",
      "</th></tr>, <tr>\n",
      "<th>Asian\n",
      "</th>\n",
      "<td>21%</td>\n",
      "<td>13%</td>\n",
      "<td>5%\n",
      "</td></tr>, <tr>\n",
      "<th>Black\n",
      "</th>\n",
      "<td>9%</td>\n",
      "<td>5%</td>\n",
      "<td>12%\n",
      "</td></tr>, <tr>\n",
      "<th>Hispanic or Latino\n",
      "</th>\n",
      "<td>11%</td>\n",
      "<td>7%</td>\n",
      "<td>16%\n",
      "</td></tr>, <tr>\n",
      "<th>White\n",
      "</th>\n",
      "<td>37%</td>\n",
      "<td>38%</td>\n",
      "<td>64%\n",
      "</td></tr>, <tr>\n",
      "<th>Two or more races\n",
      "</th>\n",
      "<td>8%</td>\n",
      "<td>3%</td>\n",
      "<td>9%\n",
      "</td></tr>, <tr>\n",
      "<th>International\n",
      "</th>\n",
      "<td>12%</td>\n",
      "<td>32%</td>\n",
      "<td>N/A\n",
      "</td></tr>]\n"
     ]
    }
   ],
   "source": [
    "# Your Code Here\n",
    "rows=demographic_table.find_all(\"tr\")\n",
    "print(rows)"
   ]
  },
  {
   "cell_type": "markdown",
   "metadata": {
    "colab_type": "text",
    "id": "K4VYK05hlV-X"
   },
   "source": [
    "---\n",
    "\n",
    "### lambda expressions\n",
    "\n",
    "We will then use a lambda expression to replace new line characters with spaces. Lambda expressions are to functions what list comprehensions are to lists: namely a more concise way to achieve the same thing.\n",
    "\n",
    "In reality, both lambda expressions and list comprehensions are a little different from their function and loop counterparts. But for the purposes of this class we can ignore those differences."
   ]
  },
  {
   "cell_type": "code",
   "execution_count": 21,
   "metadata": {
    "colab": {},
    "colab_type": "code",
    "id": "xjBPQa9flV-X"
   },
   "outputs": [],
   "source": [
    "# Lambda expressions return the value of the expression inside it.\n",
    "# In this case, it will return a string with new line characters replaced by spaces.\n",
    "rem_nl = lambda s: s.replace(\"\\n\", \" \")"
   ]
  },
  {
   "cell_type": "markdown",
   "metadata": {
    "colab_type": "text",
    "id": "851BgCf6lV-Z"
   },
   "source": [
    "# 8) Extract the columns from the Demographics table and store it in columns variable"
   ]
  },
  {
   "cell_type": "markdown",
   "metadata": {
    "colab_type": "text",
    "id": "2d2ctECOlV-Z"
   },
   "source": [
    "### Expected Output\n",
    "```\n",
    "['Undergrad', 'Grad/prof', 'US census ']\n",
    "```"
   ]
  },
  {
   "cell_type": "code",
   "execution_count": 22,
   "metadata": {
    "colab": {},
    "colab_type": "code",
    "id": "KWwqgo15lV-a"
   },
   "outputs": [
    {
     "name": "stdout",
     "output_type": "stream",
     "text": [
      "['Undergrad', 'Grad/prof', 'US census']\n"
     ]
    }
   ],
   "source": [
    "# Your Code Here\n",
    "columns = []\n",
    "for td in rows[0].find_all(\"th\"):\n",
    "    if td.text!=\"\":\n",
    "        columns.append(td.text.replace('\\n', '').strip())\n",
    "print(columns)\n"
   ]
  },
  {
   "cell_type": "markdown",
   "metadata": {
    "colab_type": "text",
    "id": "RdYgTEiNlV-b"
   },
   "source": [
    "Now let's do the same for the rows. Notice that since we have already parsed the header row, we will continue from the second row. The `[1:]` is a slice notation and in this case it means we want all values starting from the second position."
   ]
  },
  {
   "cell_type": "markdown",
   "metadata": {
    "colab_type": "text",
    "id": "RZ4Skq2QlV-c"
   },
   "source": [
    "# 9) Extract the indexes from the rows variable\n",
    "### Store it in a variable named indexes"
   ]
  },
  {
   "cell_type": "markdown",
   "metadata": {
    "colab_type": "text",
    "id": "TgNwKDIslV-c"
   },
   "source": [
    "### Expected Output\n",
    "```\n",
    "['Asian',\n",
    " 'Black',\n",
    " 'Hispanic or Latino',\n",
    " 'White',\n",
    " 'Two or more races',\n",
    " 'International']\n",
    "\n",
    "```"
   ]
  },
  {
   "cell_type": "code",
   "execution_count": 23,
   "metadata": {
    "colab": {},
    "colab_type": "code",
    "id": "-KH6yroVlV-c"
   },
   "outputs": [],
   "source": [
    "# Your Code Here\n",
    "indexes=[]\n",
    "for i in range(1,len(rows)):\n",
    "    for td in rows[i].find_all(\"th\"):\n",
    "        if td.text!=\"\":\n",
    "            indexes.append(td.text.replace('\\n', '').strip())\n"
   ]
  },
  {
   "cell_type": "code",
   "execution_count": 24,
   "metadata": {
    "colab": {},
    "colab_type": "code",
    "id": "AcZcaD1PlV-f"
   },
   "outputs": [
    {
     "data": {
      "text/plain": [
       "['Asian',\n",
       " 'Black',\n",
       " 'Hispanic or Latino',\n",
       " 'White',\n",
       " 'Two or more races',\n",
       " 'International']"
      ]
     },
     "execution_count": 24,
     "metadata": {},
     "output_type": "execute_result"
    }
   ],
   "source": [
    "indexes"
   ]
  },
  {
   "cell_type": "code",
   "execution_count": 25,
   "metadata": {
    "colab": {},
    "colab_type": "code",
    "id": "GJxoc0kElV-h"
   },
   "outputs": [
    {
     "data": {
      "text/html": [
       "<table class=\"wikitable\" style=\"text-align:center; float:right; font-size:85%; margin-right:2em;\">\n",
       "<caption><i>Demographics of student body (Fall 2019)</i><sup class=\"reference\" id=\"cite_ref-Head_count_159-0\"><a href=\"#cite_note-Head_count-159\">[159]</a></sup><sup class=\"reference\" id=\"cite_ref-160\"><a href=\"#cite_note-160\">[160]</a></sup><sup class=\"reference\" id=\"cite_ref-161\"><a href=\"#cite_note-161\">[161]</a></sup><sup class=\"reference\" id=\"cite_ref-162\"><a href=\"#cite_note-162\">[162]</a></sup>\n",
       "</caption>\n",
       "<tbody><tr>\n",
       "<th></th>\n",
       "<th>Undergrad</th>\n",
       "<th>Grad/prof</th>\n",
       "<th>US census\n",
       "</th></tr>\n",
       "<tr>\n",
       "<th>Asian\n",
       "</th>\n",
       "<td>21%</td>\n",
       "<td>13%</td>\n",
       "<td>5%\n",
       "</td></tr>\n",
       "<tr>\n",
       "<th>Black\n",
       "</th>\n",
       "<td>9%</td>\n",
       "<td>5%</td>\n",
       "<td>12%\n",
       "</td></tr>\n",
       "<tr>\n",
       "<th>Hispanic or Latino\n",
       "</th>\n",
       "<td>11%</td>\n",
       "<td>7%</td>\n",
       "<td>16%\n",
       "</td></tr>\n",
       "<tr>\n",
       "<th>White\n",
       "</th>\n",
       "<td>37%</td>\n",
       "<td>38%</td>\n",
       "<td>64%\n",
       "</td></tr>\n",
       "<tr>\n",
       "<th>Two or more races\n",
       "</th>\n",
       "<td>8%</td>\n",
       "<td>3%</td>\n",
       "<td>9%\n",
       "</td></tr>\n",
       "<tr>\n",
       "<th>International\n",
       "</th>\n",
       "<td>12%</td>\n",
       "<td>32%</td>\n",
       "<td>N/A\n",
       "</td></tr></tbody></table>"
      ],
      "text/plain": [
       "<IPython.core.display.HTML object>"
      ]
     },
     "execution_count": 25,
     "metadata": {},
     "output_type": "execute_result"
    }
   ],
   "source": [
    "# Here's the original HTML table.\n",
    "HTML(table_html)"
   ]
  },
  {
   "cell_type": "markdown",
   "metadata": {
    "colab_type": "text",
    "id": "B_WOJ94QlV-j"
   },
   "source": [
    "Next we start by checking if the last character of the string (Python allows for negative indexes) is a percent sign. If that is true, then we convert the characters before the sign to integers. Lastly, if one of the prior checks fails, we return a value of None.\n",
    "\n",
    "This is a very common pattern in Python, and it works for two reasons: Python's `and` and `or` are \"short-circuit\" operators. This means that if the first element of an `and` statement evaluates to False, the second one is never computed (which in this case would be a problem since we can't convert a non-digit string to an integer). The `or` statement works the other way: if the first element evaluates to True, the second is never computed.\n",
    "\n",
    "The second reason this works is because these operators will return the value of the last expression that was evaluated, which is this case will be either the integer value or the value `None`.\n",
    "\n",
    "One last thing to notice: Python slices are open on the upper bound. So the `[:-1]` construct will return all elements of the string, except for the last."
   ]
  },
  {
   "cell_type": "markdown",
   "metadata": {
    "colab_type": "text",
    "id": "Ea2avEaklV-k"
   },
   "source": [
    "# 10) Convert the percentages to integers\n",
    "### Store it in a variable named values"
   ]
  },
  {
   "cell_type": "markdown",
   "metadata": {
    "colab_type": "text",
    "id": "EUi7-ikVlV-k"
   },
   "source": [
    "### Expected Output\n",
    "```\n",
    "[21, 13, 5, 9, 5, 12, 11, 7, 16, 37, 38, 64, 8, 3, 9, 12, 32, None]\n",
    "```"
   ]
  },
  {
   "cell_type": "code",
   "execution_count": 26,
   "metadata": {
    "colab": {},
    "colab_type": "code",
    "id": "o4_XUfDIlV-k"
   },
   "outputs": [
    {
     "name": "stdout",
     "output_type": "stream",
     "text": [
      "[21, 13, 5, 9, 5, 12, 11, 7, 16, 37, 38, 64, 8, 3, 9, 12, 32, None]\n"
     ]
    }
   ],
   "source": [
    "# Your Code Here\n",
    "values=[]\n",
    "for i in range(1,len(rows)):\n",
    "    for td in rows[i].find_all(\"td\"):\n",
    "        if td.text!=\"\":\n",
    "            val=td.text.replace('\\n', '').strip()\n",
    "            if(val[-1]=='%'):\n",
    "                values.append(int(td.text.replace('\\n', '').strip()[:-1]))\n",
    "            else:\n",
    "                values.append(None)\n",
    "print(values)"
   ]
  },
  {
   "cell_type": "markdown",
   "metadata": {
    "colab_type": "text",
    "id": "0in8D_gdlV-p"
   },
   "source": [
    "The problem with the list above is that the values lost their grouping.\n",
    "\n",
    "The `zip` function is used to combine two sequences element wise. So `zip([1,2,3], [4,5,6])` would return `[(1, 4), (2, 5), (3, 6)]`.\n",
    "\n",
    "This is the first time we see a container bounded by parenthesis. This is a tuple, which you can think of as an immutable list (meaning you can't add, remove, or change elements from it). Otherwise they work just like lists and can be indexed, sliced, etc."
   ]
  },
  {
   "cell_type": "code",
   "execution_count": 27,
   "metadata": {
    "colab": {},
    "colab_type": "code",
    "id": "9U6avqTylV-q"
   },
   "outputs": [
    {
     "data": {
      "text/plain": [
       "[(21, 13, 5), (9, 5, 12), (11, 7, 16), (37, 38, 64), (8, 3, 9), (12, 32, None)]"
      ]
     },
     "execution_count": 27,
     "metadata": {},
     "output_type": "execute_result"
    }
   ],
   "source": [
    "stacked_values = list(zip(*[values[i::3] for i in range(len(columns))]))\n",
    "stacked_values"
   ]
  },
  {
   "cell_type": "code",
   "execution_count": 28,
   "metadata": {
    "colab": {},
    "colab_type": "code",
    "id": "5DkiF6GelV-s"
   },
   "outputs": [
    {
     "data": {
      "text/html": [
       "<table class=\"wikitable\" style=\"text-align:center; float:right; font-size:85%; margin-right:2em;\">\n",
       "<caption><i>Demographics of student body (Fall 2019)</i><sup class=\"reference\" id=\"cite_ref-Head_count_159-0\"><a href=\"#cite_note-Head_count-159\">[159]</a></sup><sup class=\"reference\" id=\"cite_ref-160\"><a href=\"#cite_note-160\">[160]</a></sup><sup class=\"reference\" id=\"cite_ref-161\"><a href=\"#cite_note-161\">[161]</a></sup><sup class=\"reference\" id=\"cite_ref-162\"><a href=\"#cite_note-162\">[162]</a></sup>\n",
       "</caption>\n",
       "<tbody><tr>\n",
       "<th></th>\n",
       "<th>Undergrad</th>\n",
       "<th>Grad/prof</th>\n",
       "<th>US census\n",
       "</th></tr>\n",
       "<tr>\n",
       "<th>Asian\n",
       "</th>\n",
       "<td>21%</td>\n",
       "<td>13%</td>\n",
       "<td>5%\n",
       "</td></tr>\n",
       "<tr>\n",
       "<th>Black\n",
       "</th>\n",
       "<td>9%</td>\n",
       "<td>5%</td>\n",
       "<td>12%\n",
       "</td></tr>\n",
       "<tr>\n",
       "<th>Hispanic or Latino\n",
       "</th>\n",
       "<td>11%</td>\n",
       "<td>7%</td>\n",
       "<td>16%\n",
       "</td></tr>\n",
       "<tr>\n",
       "<th>White\n",
       "</th>\n",
       "<td>37%</td>\n",
       "<td>38%</td>\n",
       "<td>64%\n",
       "</td></tr>\n",
       "<tr>\n",
       "<th>Two or more races\n",
       "</th>\n",
       "<td>8%</td>\n",
       "<td>3%</td>\n",
       "<td>9%\n",
       "</td></tr>\n",
       "<tr>\n",
       "<th>International\n",
       "</th>\n",
       "<td>12%</td>\n",
       "<td>32%</td>\n",
       "<td>N/A\n",
       "</td></tr></tbody></table>"
      ],
      "text/plain": [
       "<IPython.core.display.HTML object>"
      ]
     },
     "execution_count": 28,
     "metadata": {},
     "output_type": "execute_result"
    }
   ],
   "source": [
    "# Here's the original HTML table.\n",
    "HTML(table_html)"
   ]
  },
  {
   "cell_type": "markdown",
   "metadata": {
    "colab_type": "text",
    "id": "HBMkym2IlV-u"
   },
   "source": [
    "---\n",
    "\n",
    "## Pandas data structures\n",
    "\n",
    "### DataFrames\n",
    "\n",
    "To recap, we now have three data structures holding our column names, our row (index) names, and our values grouped by index.\n",
    "\n",
    "We will now load this data into a Pandas DataFrame. The loading process is pretty straightforward, and all we need to do is tell Pandas which container goes where."
   ]
  },
  {
   "cell_type": "code",
   "execution_count": 29,
   "metadata": {
    "colab": {},
    "colab_type": "code",
    "id": "Hf3F1YKRlV-v"
   },
   "outputs": [],
   "source": [
    "import pandas as pd"
   ]
  },
  {
   "cell_type": "markdown",
   "metadata": {
    "colab_type": "text",
    "id": "Z7_L6B71lV-x"
   },
   "source": [
    "# 11) Create the DataFrame\n",
    "### Use stacked_values, columns and indexes to create the Demographics DataFrame\n",
    "#### Name the DataFrame df"
   ]
  },
  {
   "cell_type": "code",
   "execution_count": 30,
   "metadata": {
    "colab": {},
    "colab_type": "code",
    "id": "fYG5DvVBlV-x"
   },
   "outputs": [
    {
     "name": "stdout",
     "output_type": "stream",
     "text": [
      "                    Undergrad  Grad/prof  US census\n",
      "Asian                      21         13        5.0\n",
      "Black                       9          5       12.0\n",
      "Hispanic or Latino         11          7       16.0\n",
      "White                      37         38       64.0\n",
      "Two or more races           8          3        9.0\n",
      "International              12         32        NaN\n"
     ]
    }
   ],
   "source": [
    "# Your Code Here\n",
    "#print(list(stacked_values))\n",
    "df=pd.DataFrame(data=list(stacked_values),columns=columns,index=indexes)\n",
    "print(df)\n"
   ]
  },
  {
   "cell_type": "code",
   "execution_count": 31,
   "metadata": {
    "colab": {},
    "colab_type": "code",
    "id": "bWEzcjnilV-z"
   },
   "outputs": [
    {
     "data": {
      "text/html": [
       "<table class=\"wikitable\" style=\"text-align:center; float:right; font-size:85%; margin-right:2em;\">\n",
       "<caption><i>Demographics of student body (Fall 2019)</i><sup class=\"reference\" id=\"cite_ref-Head_count_159-0\"><a href=\"#cite_note-Head_count-159\">[159]</a></sup><sup class=\"reference\" id=\"cite_ref-160\"><a href=\"#cite_note-160\">[160]</a></sup><sup class=\"reference\" id=\"cite_ref-161\"><a href=\"#cite_note-161\">[161]</a></sup><sup class=\"reference\" id=\"cite_ref-162\"><a href=\"#cite_note-162\">[162]</a></sup>\n",
       "</caption>\n",
       "<tbody><tr>\n",
       "<th></th>\n",
       "<th>Undergrad</th>\n",
       "<th>Grad/prof</th>\n",
       "<th>US census\n",
       "</th></tr>\n",
       "<tr>\n",
       "<th>Asian\n",
       "</th>\n",
       "<td>21%</td>\n",
       "<td>13%</td>\n",
       "<td>5%\n",
       "</td></tr>\n",
       "<tr>\n",
       "<th>Black\n",
       "</th>\n",
       "<td>9%</td>\n",
       "<td>5%</td>\n",
       "<td>12%\n",
       "</td></tr>\n",
       "<tr>\n",
       "<th>Hispanic or Latino\n",
       "</th>\n",
       "<td>11%</td>\n",
       "<td>7%</td>\n",
       "<td>16%\n",
       "</td></tr>\n",
       "<tr>\n",
       "<th>White\n",
       "</th>\n",
       "<td>37%</td>\n",
       "<td>38%</td>\n",
       "<td>64%\n",
       "</td></tr>\n",
       "<tr>\n",
       "<th>Two or more races\n",
       "</th>\n",
       "<td>8%</td>\n",
       "<td>3%</td>\n",
       "<td>9%\n",
       "</td></tr>\n",
       "<tr>\n",
       "<th>International\n",
       "</th>\n",
       "<td>12%</td>\n",
       "<td>32%</td>\n",
       "<td>N/A\n",
       "</td></tr></tbody></table>"
      ],
      "text/plain": [
       "<IPython.core.display.HTML object>"
      ]
     },
     "execution_count": 31,
     "metadata": {},
     "output_type": "execute_result"
    }
   ],
   "source": [
    "# Here's the original HTML table.\n",
    "HTML(table_html)"
   ]
  },
  {
   "cell_type": "markdown",
   "metadata": {
    "colab_type": "text",
    "id": "F8iqHSV1lV-2"
   },
   "source": [
    "---\n",
    "\n",
    "### DataFrame cleanup\n",
    "\n",
    "Our DataFrame looks nice; but does it have the right data types?"
   ]
  },
  {
   "cell_type": "markdown",
   "metadata": {
    "colab_type": "text",
    "id": "bnZ8vzR5lV-2"
   },
   "source": [
    "# 12) Display the datatypes of all the columns"
   ]
  },
  {
   "cell_type": "code",
   "execution_count": 32,
   "metadata": {
    "colab": {},
    "colab_type": "code",
    "id": "6PjFH677lV-3"
   },
   "outputs": [
    {
     "data": {
      "text/plain": [
       "Undergrad      int64\n",
       "Grad/prof      int64\n",
       "US census    float64\n",
       "dtype: object"
      ]
     },
     "execution_count": 32,
     "metadata": {},
     "output_type": "execute_result"
    }
   ],
   "source": [
    "# Your Code Here\n",
    "#graded assignment\n",
    "df.dtypes"
   ]
  },
  {
   "cell_type": "markdown",
   "metadata": {
    "colab_type": "text",
    "id": "E0BI9uITlV-7"
   },
   "source": [
    "The `U.S Census` looks a little strange. It should have been evaluated as an integer, but instead it came in as a float. It probably has something to do with the `NaN` value...\n",
    "\n",
    "In fact, missing values can mess up a lot of our calculations, and some function don't work at all when `NaN` are present. So we should probably clean this up.\n",
    "\n",
    "One way to do that is by dropping the rows that have missing values:"
   ]
  },
  {
   "cell_type": "markdown",
   "metadata": {
    "colab_type": "text",
    "id": "qxBtq4QXlV-7"
   },
   "source": [
    "# 13) Drop the row containing NaN value.\n",
    "### After droping the row store it in df_clean_row"
   ]
  },
  {
   "cell_type": "code",
   "execution_count": 33,
   "metadata": {
    "colab": {},
    "colab_type": "code",
    "id": "agY6jks7lV-9"
   },
   "outputs": [
    {
     "name": "stdout",
     "output_type": "stream",
     "text": [
      "                    Undergrad  Grad/prof  US census\n",
      "Asian                      21         13        5.0\n",
      "Black                       9          5       12.0\n",
      "Hispanic or Latino         11          7       16.0\n",
      "White                      37         38       64.0\n",
      "Two or more races           8          3        9.0\n"
     ]
    }
   ],
   "source": [
    "df_clean_row=df.dropna(axis=0)\n",
    "print(df_clean_row)\n",
    "#print(df)"
   ]
  },
  {
   "cell_type": "markdown",
   "metadata": {
    "colab_type": "text",
    "id": "ka5mJhBmlV-_"
   },
   "source": [
    "# 13) Drop the column containing NaN value.\n",
    "### After droping the column store it in df_clean_column"
   ]
  },
  {
   "cell_type": "code",
   "execution_count": 34,
   "metadata": {
    "colab": {},
    "colab_type": "code",
    "id": "VoRXibnVlV-_"
   },
   "outputs": [
    {
     "name": "stdout",
     "output_type": "stream",
     "text": [
      "                    Undergrad  Grad/prof\n",
      "Asian                      21         13\n",
      "Black                       9          5\n",
      "Hispanic or Latino         11          7\n",
      "White                      37         38\n",
      "Two or more races           8          3\n",
      "International              12         32\n",
      "           Undergrad  Grad/prof  US census\n",
      "Undergrad   1.000000   0.730634   0.848438\n",
      "Grad/prof   0.730634   1.000000   0.930511\n",
      "US census   0.848438   0.930511   1.000000\n"
     ]
    }
   ],
   "source": [
    "df_clean_column=df.dropna(axis=1)\n",
    "print(df_clean_column)\n",
    "#graded assignment\n",
    "print(df.corr())\n"
   ]
  },
  {
   "cell_type": "markdown",
   "metadata": {
    "colab_type": "text",
    "id": "nrOc2WkxlV_B"
   },
   "source": [
    "We will take a less radical approach and replace the missing value with a zero. In this case this solution makes sense, since 0% value meaningful in this context. We will also transform all the values to integers at the same time."
   ]
  },
  {
   "cell_type": "markdown",
   "metadata": {
    "colab_type": "text",
    "id": "dleQ3exZlV_B"
   },
   "source": [
    "# 13) Fill the NaN value with 0 \n",
    "### After filling the NaN value with 0 store it in df_clean"
   ]
  },
  {
   "cell_type": "code",
   "execution_count": 35,
   "metadata": {
    "colab": {},
    "colab_type": "code",
    "id": "iE-C7eA1lV_B"
   },
   "outputs": [
    {
     "data": {
      "text/html": [
       "<div>\n",
       "<style scoped>\n",
       "    .dataframe tbody tr th:only-of-type {\n",
       "        vertical-align: middle;\n",
       "    }\n",
       "\n",
       "    .dataframe tbody tr th {\n",
       "        vertical-align: top;\n",
       "    }\n",
       "\n",
       "    .dataframe thead th {\n",
       "        text-align: right;\n",
       "    }\n",
       "</style>\n",
       "<table border=\"1\" class=\"dataframe\">\n",
       "  <thead>\n",
       "    <tr style=\"text-align: right;\">\n",
       "      <th></th>\n",
       "      <th>Undergrad</th>\n",
       "      <th>Grad/prof</th>\n",
       "      <th>US census</th>\n",
       "    </tr>\n",
       "  </thead>\n",
       "  <tbody>\n",
       "    <tr>\n",
       "      <th>Asian</th>\n",
       "      <td>21</td>\n",
       "      <td>13</td>\n",
       "      <td>5</td>\n",
       "    </tr>\n",
       "    <tr>\n",
       "      <th>Black</th>\n",
       "      <td>9</td>\n",
       "      <td>5</td>\n",
       "      <td>12</td>\n",
       "    </tr>\n",
       "    <tr>\n",
       "      <th>Hispanic or Latino</th>\n",
       "      <td>11</td>\n",
       "      <td>7</td>\n",
       "      <td>16</td>\n",
       "    </tr>\n",
       "    <tr>\n",
       "      <th>White</th>\n",
       "      <td>37</td>\n",
       "      <td>38</td>\n",
       "      <td>64</td>\n",
       "    </tr>\n",
       "    <tr>\n",
       "      <th>Two or more races</th>\n",
       "      <td>8</td>\n",
       "      <td>3</td>\n",
       "      <td>9</td>\n",
       "    </tr>\n",
       "    <tr>\n",
       "      <th>International</th>\n",
       "      <td>12</td>\n",
       "      <td>32</td>\n",
       "      <td>0</td>\n",
       "    </tr>\n",
       "  </tbody>\n",
       "</table>\n",
       "</div>"
      ],
      "text/plain": [
       "                    Undergrad  Grad/prof  US census\n",
       "Asian                      21         13          5\n",
       "Black                       9          5         12\n",
       "Hispanic or Latino         11          7         16\n",
       "White                      37         38         64\n",
       "Two or more races           8          3          9\n",
       "International              12         32          0"
      ]
     },
     "execution_count": 35,
     "metadata": {},
     "output_type": "execute_result"
    }
   ],
   "source": [
    "# Your Code Here\n",
    "df_clean=df.fillna(0)\n",
    "df_clean['US census']=df_clean['US census'].astype('int')\n",
    "df_clean"
   ]
  },
  {
   "cell_type": "code",
   "execution_count": 36,
   "metadata": {
    "colab": {},
    "colab_type": "code",
    "id": "Bg9w39lplV_D"
   },
   "outputs": [
    {
     "data": {
      "text/plain": [
       "Undergrad    int64\n",
       "Grad/prof    int64\n",
       "US census    int64\n",
       "dtype: object"
      ]
     },
     "execution_count": 36,
     "metadata": {},
     "output_type": "execute_result"
    }
   ],
   "source": [
    "df_clean.dtypes"
   ]
  },
  {
   "cell_type": "markdown",
   "metadata": {
    "colab_type": "text",
    "id": "psKN1wZ6lV_F"
   },
   "source": [
    "Now our table looks good!\n"
   ]
  },
  {
   "cell_type": "markdown",
   "metadata": {
    "colab_type": "text",
    "id": "fh9FVU-UlV_G"
   },
   "source": [
    "---\n",
    "\n",
    "### NumPy\n",
    "\n",
    "Pandas is awesome, but it is built on top of another library the we will use extensively during the course. NumPy implements new data types and vectorized functions."
   ]
  },
  {
   "cell_type": "code",
   "execution_count": 37,
   "metadata": {
    "colab": {},
    "colab_type": "code",
    "id": "jUep-9NllV_G"
   },
   "outputs": [],
   "source": [
    "import numpy as np"
   ]
  },
  {
   "cell_type": "markdown",
   "metadata": {
    "colab_type": "text",
    "id": "lxkkHR_3lV_I"
   },
   "source": [
    "The `values` method of the DataFrame will return a two-dimensional `array` with the DataFrame values. The `array` is a NumPy structure that we will be using a lot during this class."
   ]
  },
  {
   "cell_type": "code",
   "execution_count": 38,
   "metadata": {
    "colab": {},
    "colab_type": "code",
    "id": "DG0k2_UVlV_I"
   },
   "outputs": [
    {
     "data": {
      "text/plain": [
       "array([[21, 13,  5],\n",
       "       [ 9,  5, 12],\n",
       "       [11,  7, 16],\n",
       "       [37, 38, 64],\n",
       "       [ 8,  3,  9],\n",
       "       [12, 32,  0]])"
      ]
     },
     "execution_count": 38,
     "metadata": {},
     "output_type": "execute_result"
    }
   ],
   "source": [
    "df_clean.values"
   ]
  },
  {
   "cell_type": "markdown",
   "metadata": {
    "colab_type": "text",
    "id": "Fi-YMfJ5lV_K"
   },
   "source": [
    "Let's see if this is indeed a NumPy type..."
   ]
  },
  {
   "cell_type": "code",
   "execution_count": 39,
   "metadata": {
    "colab": {},
    "colab_type": "code",
    "id": "Y99gwFjKlV_K"
   },
   "outputs": [
    {
     "data": {
      "text/plain": [
       "numpy.ndarray"
      ]
     },
     "execution_count": 39,
     "metadata": {},
     "output_type": "execute_result"
    }
   ],
   "source": [
    "type(df_clean.values)"
   ]
  },
  {
   "cell_type": "markdown",
   "metadata": {
    "colab_type": "text",
    "id": "3t1WCFI_lV_M"
   },
   "source": [
    "NumPy also offers many functions that can operate directly on the DataFrame."
   ]
  },
  {
   "cell_type": "markdown",
   "metadata": {
    "colab_type": "text",
    "id": "gfRSm1AolV_N"
   },
   "source": [
    "# 14) Find the mean for the column 'Undergrad' from the cleaned dataset"
   ]
  },
  {
   "cell_type": "code",
   "execution_count": 40,
   "metadata": {
    "colab": {},
    "colab_type": "code",
    "id": "4Ae8SICFlV_N"
   },
   "outputs": [
    {
     "data": {
      "text/plain": [
       "16.333333333333332"
      ]
     },
     "execution_count": 40,
     "metadata": {},
     "output_type": "execute_result"
    }
   ],
   "source": [
    "# Your Code Here\n",
    "#graded assignment\n",
    "df_clean.Undergrad.mean()"
   ]
  },
  {
   "cell_type": "markdown",
   "metadata": {
    "colab_type": "text",
    "id": "U1aE66TMlV_O"
   },
   "source": [
    "# 15) Find the standard deviation for all the columns of the cleaned dataset"
   ]
  },
  {
   "cell_type": "code",
   "execution_count": 41,
   "metadata": {
    "colab": {},
    "colab_type": "code",
    "id": "6GOMSOKnlV_R"
   },
   "outputs": [
    {
     "name": "stdout",
     "output_type": "stream",
     "text": [
      "Undergrad    11.129540\n",
      "Grad/prof    14.962175\n",
      "US census    23.363790\n",
      "dtype: float64\n",
      "                    Undergrad  Grad/prof  US census\n",
      "Asian                0.214286   0.132653   0.047170\n",
      "Black                0.091837   0.051020   0.113208\n",
      "Hispanic or Latino   0.112245   0.071429   0.150943\n",
      "White                0.377551   0.387755   0.603774\n",
      "Two or more races    0.081633   0.030612   0.084906\n",
      "International        0.122449   0.326531   0.000000\n"
     ]
    }
   ],
   "source": [
    "# Your Code Here\n",
    "print(df_clean.std())\n",
    "#graded assignment\n",
    "df_clean['Grad/prof'].max()-df_clean['Grad/prof'].min()\n",
    "X=df_clean/df_clean.sum()\n",
    "print(X)"
   ]
  },
  {
   "cell_type": "markdown",
   "metadata": {
    "colab_type": "text",
    "id": "ME4HgBFWIUHi"
   },
   "source": [
    "### Congrats on Completing the Assignment. Now proceed to the following link to attempt a small quiz based on this assignment. \n",
    "\n",
    "https://forms.gle/6XTvyzT7rhprgkbi7 \n",
    "\n",
    "### Remember completion of this assignment remains incomplete if you don't attempt the quiz. So don't forget to do the same."
   ]
  },
  {
   "cell_type": "markdown",
   "metadata": {},
   "source": [
    "# Assignment Done, Dated: 20.04.2020"
   ]
  },
  {
   "cell_type": "code",
   "execution_count": null,
   "metadata": {},
   "outputs": [],
   "source": []
  }
 ],
 "metadata": {
  "colab": {
   "collapsed_sections": [
    "KzoUTUo6lV-C",
    "K4VYK05hlV-X",
    "F8iqHSV1lV-2"
   ],
   "name": "Data_Engineering_Summer_Analytics.ipynb",
   "provenance": []
  },
  "kernelspec": {
   "display_name": "Python 3",
   "language": "python",
   "name": "python3"
  },
  "language_info": {
   "codemirror_mode": {
    "name": "ipython",
    "version": 3
   },
   "file_extension": ".py",
   "mimetype": "text/x-python",
   "name": "python",
   "nbconvert_exporter": "python",
   "pygments_lexer": "ipython3",
   "version": "3.7.6"
  }
 },
 "nbformat": 4,
 "nbformat_minor": 1
}
